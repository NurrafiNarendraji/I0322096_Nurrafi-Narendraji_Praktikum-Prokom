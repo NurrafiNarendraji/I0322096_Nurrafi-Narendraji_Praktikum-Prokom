{
 "cells": [
  {
   "cell_type": "code",
   "execution_count": 9,
   "metadata": {},
   "outputs": [
    {
     "name": "stdout",
     "output_type": "stream",
     "text": [
      "Nurrafi Narendraji\n",
      "I0322096\n",
      "KELAS C TEKNIK INDUSTRI\n"
     ]
    }
   ],
   "source": [
    "print(input(\"Nama: \"))\n",
    "print(input(\"NIM: \"))\n",
    "print(input(\"Kelas: \"))"
   ]
  },
  {
   "attachments": {},
   "cell_type": "markdown",
   "metadata": {},
   "source": [
    "## 1."
   ]
  },
  {
   "attachments": {},
   "cell_type": "markdown",
   "metadata": {},
   "source": [
    "buatlah program sederhana untuk:\n",
    "* **A** mencari massa jika diketahui nilai energi potensial, percepatan gravitasi, dan ketinggian benda! beserta rumus nya!\n",
    "* **B** mencari gaya apung jika diketahui massa jenis, tinggi, panjang, dan lebar benda serta percepatan gravitasi dan contohnya! beserta rumus nya!\n",
    "* **C** Tulis program Python untuk menghitung luas dari segi lima sama sisi!\n",
    "\n",
    "> *note* : rumus, contoh, dan nilai dari tiap variabel ditentukan oleh kalian sendiri dan gunakan satuan baku (SI) untuk menghitung nilai dari tiap variabel"
   ]
  },
  {
   "cell_type": "code",
   "execution_count": 1,
   "metadata": {},
   "outputs": [
    {
     "name": "stdout",
     "output_type": "stream",
     "text": [
      "Energi potensial yang diketahui = 6.0 joule\n",
      "Ketinggian benda yang diketahui = 2.0 m\n",
      "Percepatan gravitasi = 10 m/s^2\n",
      "\n",
      "Rumus mencari massa benda:\n",
      "m = Ep/(g * tinggi)\n",
      "Maka massa benda adalah 0.3 kg\n"
     ]
    }
   ],
   "source": [
    "# A mencari massa jika diketahui nilai energi potensial, percepatan gravitasi, dan ketinggian benda! beserta rumus nya!\n",
    "energiPotensial = float(input('Nilai energi potensial yang diketahui = ')) # Dalam Joule\n",
    "ketinggianBenda = float(input('Ketinggian benda yang diketahui = ')) # Dalam meter\n",
    "percepatanGravitasi = 10 #m/s2\n",
    "massaBenda = energiPotensial / (ketinggianBenda * percepatanGravitasi)\n",
    "\n",
    "print(f'Energi potensial yang diketahui = {energiPotensial} joule\\nKetinggian benda yang diketahui = {ketinggianBenda} m\\nPercepatan gravitasi = {percepatanGravitasi} m/s^2')\n",
    "print(f'\\nRumus mencari massa benda:\\nm = Ep/(g * tinggi)\\nMaka massa benda adalah {massaBenda} kg')\n"
   ]
  },
  {
   "cell_type": "code",
   "execution_count": 2,
   "metadata": {},
   "outputs": [
    {
     "name": "stdout",
     "output_type": "stream",
     "text": [
      "Massa jenis yang diketahui = 5.0 kg/m^3\n",
      "Tinggi benda = 7.0 m\n",
      "Panjang benda = 9.0 m\n",
      "Lebar benda = 4.0 m\n",
      "Percepatan gravitasi = 10 m/s^2\n",
      "\n",
      "Rumus Gaya Apung:\n",
      "F = 𝜌 𝑔 𝑉\n",
      "Maka gaya apung yang bekerja pada benda tersebut sebesar 12600.0 N\n"
     ]
    }
   ],
   "source": [
    "# B mencari gaya apung jika diketahui massa jenis, tinggi benda, panjang benda , dan lebar benda serta percepatan gravitasi dan contohnya! beserta rumus nya!\n",
    "massaJenis = float(input('Massa jenis yang diketahui = ')) #Dalam kg/m3\n",
    "tinggiBenda = float(input('Tinggi benda yang diketahui = ')) #Dalam meter\n",
    "panjangBenda = float(input('Panjang benda yang diketahui = ')) #Dalam meter\n",
    "lebarBenda = float(input('Lebar benda yang diketahui = ')) #Dalam meter\n",
    "percepatanGravitasi = 10 #m/s2\n",
    "volumeBenda = tinggiBenda * panjangBenda * lebarBenda\n",
    "\n",
    "# Rumus Gaya Apung F = 𝜌 𝑔 𝑉\n",
    "rumusGayaApung = massaJenis * percepatanGravitasi * volumeBenda\n",
    "print(f'Massa jenis yang diketahui = {massaJenis} kg/m^3\\nTinggi benda = {tinggiBenda} m\\nPanjang benda = {panjangBenda} m\\nLebar benda = {lebarBenda} m\\nPercepatan gravitasi = {percepatanGravitasi} m/s^2')\n",
    "print(f'\\nRumus Gaya Apung:\\nF = 𝜌 𝑔 𝑉\\nMaka gaya apung yang bekerja pada benda tersebut sebesar {rumusGayaApung} N')\n"
   ]
  },
  {
   "cell_type": "code",
   "execution_count": 3,
   "metadata": {},
   "outputs": [
    {
     "name": "stdout",
     "output_type": "stream",
     "text": [
      "Panjang sisi = 5.0 cm\n",
      "\n",
      "Rumus luas segilima sama sisi:\n",
      "a²/4 x √(25 + 10√5)\n",
      "Maka luas segilima dengan sisi 5.0 cm adalah 43.01193501472417 cm²\n"
     ]
    }
   ],
   "source": [
    "# C Tulis program Python untuk menghitung luas dari segi lima sama sisi!\n",
    "import math\n",
    "\n",
    "panjangSisi = float(input('Panjang sisi segilima yang diketahui = ')) # Dalam centimeter\n",
    "# Luas segilima = a²/4 x √(25 + 10√5)\n",
    "luasSegilima = ((panjangSisi ** 2) / 4) * (math.sqrt(25 + (10 * math.sqrt(5))))\n",
    "print(f'Panjang sisi = {panjangSisi} cm')\n",
    "print(f'\\nRumus luas segilima sama sisi:\\na²/4 x √(25 + 10√5)\\nMaka luas segilima dengan sisi {panjangSisi} cm adalah {luasSegilima} cm²') "
   ]
  },
  {
   "attachments": {},
   "cell_type": "markdown",
   "metadata": {},
   "source": [
    "## 2."
   ]
  },
  {
   "attachments": {},
   "cell_type": "markdown",
   "metadata": {},
   "source": [
    "Taman bermain ANCOL memiliki berbagai wahana, salah satunya adalah bianglala. Harga tiket yang dijual berbeda tergantung dengan kategori nya. Harga tiket bagi orang dewasa atau yang berumur lebih dari 17 tahun adalah Rp 110.000 , harga tiket untuk anak-anak usia 6-16 tahun adalah Rp. 75.000 , sedangkan untuk usia dibawahnya tidak dikenakan biaya. Pada wahana bianglala sedang ada \"Promo RAMADHAN\" sebesar 20% bagi pembelian tiket lebih dari 2 pcs.\n",
    "\n",
    "Keluarga Anya Forger ingin menaiki wahana bianglala tersebut, Anya (usia 18 tahun) pergi bersama ayah dan ibunya beserta dua adiknya, Harry (usia 8 tahun) dan Taylor (usia 4 tahun). \n",
    "\n",
    "> Buatlah program sederhana untuk menghitung harga total dari pembelian tiket  oleh keluarga Anya dan harga tiket setelah mendapatkan diskon"
   ]
  },
  {
   "cell_type": "code",
   "execution_count": 1,
   "metadata": {},
   "outputs": [
    {
     "name": "stdout",
     "output_type": "stream",
     "text": [
      "Anda mendapatkan diskon 20%\n",
      "Jumlah tiket dewasa =  3\n",
      "Jumlah tiket anak =  1\n",
      "Jumlah tiket bocil =  1\n",
      "Harga total (normal) =  405000\n",
      "Anda harus membayar =  324000.0\n"
     ]
    }
   ],
   "source": [
    "dewasa = int(input(\"jumlah orang dewasa (diatas 17 tahun) = \"))\n",
    "anak = int(input(\"jumlah anak-anak (6-16 tahun) = \"))\n",
    "bocil = int(input(\"jumlah anak dibawah 6 tahun = \"))\n",
    "\n",
    "tiketDewasa = 110000\n",
    "tiketAnak = 75000\n",
    "tiketBocil = 0\n",
    "totalHarga = (tiketDewasa*dewasa)+(tiketAnak*anak)+(tiketBocil*bocil)\n",
    "jumlahTiket = tiketDewasa+tiketAnak+tiketBocil\n",
    "\n",
    "if jumlahTiket>2:\n",
    "    print(\"Anda mendapatkan diskon 20%\")\n",
    "    TotalHargaSetelaDiskon = totalHarga * 80/100\n",
    "\n",
    "print(\"Jumlah tiket dewasa = \", dewasa)\n",
    "print(\"Jumlah tiket anak = \", anak)\n",
    "print(\"Jumlah tiket bocil = \", bocil)\n",
    "print(\"Harga total (normal) = \",totalHarga)\n",
    "print(\"Anda harus membayar = \",TotalHargaSetelaDiskon)"
   ]
  },
  {
   "attachments": {},
   "cell_type": "markdown",
   "metadata": {},
   "source": [
    "## 3. "
   ]
  },
  {
   "attachments": {},
   "cell_type": "markdown",
   "metadata": {},
   "source": [
    "diberikan list aslab sebagai berikut:\n",
    "```python\n",
    "list_aslab = [\n",
    "    {\"nama\": \"Berlian Safri Prakoso\", \"nim\": \"I0320017\", \"kontak\": \"0858XXXXXXXX\"},\n",
    "    {\"nama\": \"Halidya Siti Hanifah\", \"nim\": \"I0320044\", \"kontak\": \"0878XXXXXXXX\"},\n",
    "    {\"nama\": \"Nurki Putra Mahardika\", \"nim\": \"I0320076\", \"kontak\": \"0877XXXXXXXX\"},\n",
    "    {\"nama\": \"Aji Manarul Aziz\", \"nim\": \"I0320119\", \"kontak\": \"0812XXXXXXXX\"},\n",
    "    {\"nama\": \"Alica Ayu Fitriani\", \"nim\": \"I0320121\", \"kontak\": \"0896XXXXXXXX\"},\n",
    "    {\"nama\": \"Dendy Halim Kusuma\", \"nim\": \"I0320125\", \"kontak\": \"0822XXXXXXXX\"}\n",
    "]\n",
    "```\n",
    "* **A** Tuliskan kode untuk mengakses informasi tentang \"nama\" dari semua aslab mulai dari index 1 sampai 5\n",
    "* **B** Tambahkan informasi berikut pada data aslab dan tampilkan hasilnya:\n",
    "```python\n",
    "    surel = [\"berlian@student.uns.ac.id\",\n",
    "          \"halidya@student.uns.ac.id\",\n",
    "          \"nurki@student.uns.ac.id\",\n",
    "          \"manarul@student.uns.ac.id\",\n",
    "          \"alica@student.uns.ac.id\",\n",
    "          \"dendy@student.uns.ac.id\"]\n",
    "```\n",
    "* **C** Hapus nilai pada kunci \"kontak\" pada list aslab dan tampilkan hasilnya\n",
    "> *note: kalian hanya boleh menggunakan key-value pair yang disebutkan di dalam teks, tanpa menggunakan informasi tambahan yang diambil pada list yang ada*"
   ]
  },
  {
   "cell_type": "code",
   "execution_count": 6,
   "metadata": {},
   "outputs": [
    {
     "name": "stdout",
     "output_type": "stream",
     "text": [
      "Halidya Siti Hanifah\n",
      "Nurki Putra Mahardika\n",
      "Aji Manarul Aziz\n",
      "Alica Ayu Fitriani\n",
      "Dendy Halim Kusuma\n"
     ]
    }
   ],
   "source": [
    "# A \n",
    "list_aslab = [\n",
    "    {\"nama\": \"Berlian Safri Prakoso\", \"nim\": \"I0320017\", \"kontak\": \"0858XXXXXXXX\"},\n",
    "    {\"nama\": \"Halidya Siti Hanifah\", \"nim\": \"I0320044\", \"kontak\": \"0878XXXXXXXX\"},\n",
    "    {\"nama\": \"Nurki Putra Mahardika\", \"nim\": \"I0320076\", \"kontak\": \"0877XXXXXXXX\"},\n",
    "    {\"nama\": \"Aji Manarul Aziz\", \"nim\": \"I0320119\", \"kontak\": \"0812XXXXXXXX\"},\n",
    "    {\"nama\": \"Alica Ayu Fitriani\", \"nim\": \"I0320121\", \"kontak\": \"0896XXXXXXXX\"},\n",
    "    {\"nama\": \"Dendy Halim Kusuma\", \"nim\": \"I0320125\", \"kontak\": \"0822XXXXXXXX\"}\n",
    "]\n",
    "\n",
    "surel = [\"berlian@student.uns.ac.id\",\n",
    "          \"halidya@student.uns.ac.id\",\n",
    "          \"nurki@student.uns.ac.id\",\n",
    "          \"manarul@student.uns.ac.id\",\n",
    "          \"alica@student.uns.ac.id\",\n",
    "          \"dendy@student.uns.ac.id\"]\n",
    "\n",
    "for i in range(1, len(list_aslab)):\n",
    "    print(list_aslab[i][\"nama\"])\n"
   ]
  },
  {
   "cell_type": "code",
   "execution_count": 7,
   "metadata": {},
   "outputs": [
    {
     "name": "stdout",
     "output_type": "stream",
     "text": [
      "[{'nama': 'Berlian Safri Prakoso', 'nim': 'I0320017', 'kontak': '0858XXXXXXXX', 'surel': 'berlian@student.uns.ac.id'}, {'nama': 'Halidya Siti Hanifah', 'nim': 'I0320044', 'kontak': '0878XXXXXXXX', 'surel': 'halidya@student.uns.ac.id'}, {'nama': 'Nurki Putra Mahardika', 'nim': 'I0320076', 'kontak': '0877XXXXXXXX', 'surel': 'nurki@student.uns.ac.id'}, {'nama': 'Aji Manarul Aziz', 'nim': 'I0320119', 'kontak': '0812XXXXXXXX', 'surel': 'manarul@student.uns.ac.id'}, {'nama': 'Alica Ayu Fitriani', 'nim': 'I0320121', 'kontak': '0896XXXXXXXX', 'surel': 'alica@student.uns.ac.id'}, {'nama': 'Dendy Halim Kusuma', 'nim': 'I0320125', 'kontak': '0822XXXXXXXX', 'surel': 'dendy@student.uns.ac.id'}]\n"
     ]
    }
   ],
   "source": [
    "# B\n",
    "\n",
    "for o in range(0, len(list_aslab)):\n",
    "    list_aslab[o][\"surel\"] = surel[o]\n",
    "      \n",
    "print(list_aslab)\n",
    "    "
   ]
  },
  {
   "cell_type": "code",
   "execution_count": 8,
   "metadata": {},
   "outputs": [
    {
     "name": "stdout",
     "output_type": "stream",
     "text": [
      "[{'nama': 'Berlian Safri Prakoso', 'nim': 'I0320017', 'surel': 'berlian@student.uns.ac.id'}, {'nama': 'Halidya Siti Hanifah', 'nim': 'I0320044', 'surel': 'halidya@student.uns.ac.id'}, {'nama': 'Nurki Putra Mahardika', 'nim': 'I0320076', 'surel': 'nurki@student.uns.ac.id'}, {'nama': 'Aji Manarul Aziz', 'nim': 'I0320119', 'surel': 'manarul@student.uns.ac.id'}, {'nama': 'Alica Ayu Fitriani', 'nim': 'I0320121', 'surel': 'alica@student.uns.ac.id'}, {'nama': 'Dendy Halim Kusuma', 'nim': 'I0320125', 'surel': 'dendy@student.uns.ac.id'}]\n"
     ]
    }
   ],
   "source": [
    "# C \n",
    "\n",
    "for d in range(0, len(list_aslab)):\n",
    "    del list_aslab[d][\"kontak\"]\n",
    "    \n",
    "print(list_aslab)"
   ]
  }
 ],
 "metadata": {
  "kernelspec": {
   "display_name": "Python 3",
   "language": "python",
   "name": "python3"
  },
  "language_info": {
   "codemirror_mode": {
    "name": "ipython",
    "version": 3
   },
   "file_extension": ".py",
   "mimetype": "text/x-python",
   "name": "python",
   "nbconvert_exporter": "python",
   "pygments_lexer": "ipython3",
   "version": "3.10.7"
  },
  "orig_nbformat": 4,
  "vscode": {
   "interpreter": {
    "hash": "5addf786bcd861d1ce5006f23111f8cbb206731e5b61b0a5632ba9e0252558a8"
   }
  }
 },
 "nbformat": 4,
 "nbformat_minor": 2
}
