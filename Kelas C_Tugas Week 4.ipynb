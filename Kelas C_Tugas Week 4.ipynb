{
 "cells": [
  {
   "cell_type": "code",
   "execution_count": 1,
   "metadata": {},
   "outputs": [
    {
     "name": "stdout",
     "output_type": "stream",
     "text": [
      "Nurrafi Narendraji\n",
      "I0322096\n",
      "KELAS C\n"
     ]
    }
   ],
   "source": [
    "print(input(\"Nama: \"))\n",
    "print(input(\"NIM: \"))\n",
    "print(input(\"Kelas: \"))"
   ]
  },
  {
   "attachments": {},
   "cell_type": "markdown",
   "metadata": {},
   "source": [
    "## 1."
   ]
  },
  {
   "attachments": {},
   "cell_type": "markdown",
   "metadata": {},
   "source": [
    "Buatlah program yang menampilkan tarif pajak yang harus dibayarkan oleh user dengan input yaitu nama user dan pendapatan dari user.<br>\n",
    "Dengan ketentuan sebagai berikut:\n",
    "* Jika pendapatan kurang dari atau sama dengan 10 juta, maka tarif pajak adalah 2,5%\n",
    "* Jika pendapatan kurang dari atau sama dengan 20 juta, maka tarif pajak adalah 5%\n",
    "* Jika pendapatan kurang dari atau sama dengan 50 juta, maka tarif pajak adalah 10%.\n",
    "* Jika pendapatan lebih dari 50 juta, maka tarif pajak adalah 12,5%.\n",
    "> *note: Kerjakan soal ini dengan percabangan*"
   ]
  },
  {
   "cell_type": "code",
   "execution_count": 4,
   "metadata": {},
   "outputs": [
    {
     "name": "stdout",
     "output_type": "stream",
     "text": [
      "==========================\n",
      "Tarif Pajak Dari Pendapatan Anda adalah 2,5%\n",
      "Maka,Jumlah Pajak yang harus anda bayarkan: 1250.0 rupiah\n"
     ]
    }
   ],
   "source": [
    "# Kerjakan soal no 1 di sini\n",
    "A = int(input(\"Masukan Pendapatan Anda (dalam rupiah):\"))\n",
    "\n",
    "if A <= 10000000:\n",
    "    tax = A * (25 / 1000)\n",
    "    print (\"==========================\")\n",
    "    print (\"Tarif Pajak Dari Pendapatan Anda adalah 2,5%\")\n",
    "    print (\"Maka,Jumlah Pajak yang harus anda bayarkan:\",tax,\"rupiah\")\n",
    "elif A <= 20000000 :\n",
    "    tax = A * (50/1000) \n",
    "    print (\"===============================\")\n",
    "    print (\"Tarif Pajak Dari Pendapatan anda adalah 5%\")\n",
    "elif A <= 50000000 :\n",
    "    tax = A * (100 / 1000)\n",
    "    print (\"=============================================\")\n",
    "    print (\"Tarif Pajak dari pendapatan anda adalah 10%\")\n",
    "    print (\"Jumlah Pajak Yang harus anda bayarkan:\",tax,\"rupiah\")\n",
    "elif   A > 50000000 :\n",
    "    tax = A * (125/1000) \n",
    "    print (\"=====================================================\")\n",
    "    print (\"tarif pajak dari pendapatan anda adalah 12,5%\")\n",
    "    print (\"jumlah pajak yang harus anda bayarkan:\",tax,\"rupiah\")\n"
   ]
  },
  {
   "attachments": {},
   "cell_type": "markdown",
   "metadata": {},
   "source": [
    "## 2."
   ]
  },
  {
   "attachments": {},
   "cell_type": "markdown",
   "metadata": {},
   "source": [
    "Buatlah program yang menampilkan akan melakukan validasi apakah mahasiswa tersebut berasal dari TI UNS berdasarkan NIM yang diinput oleh user:\n",
    "<br>Dengan ketentuan sebagai berikut:\n",
    "* NIM mahasiswa TI harus dimulai dengan \"I03\" dengan total panjang 8 karakter (I0320078 adalah contoh NIM mahasiswa TI UNS)\n",
    "* Program akan menampilkan pesan \"NIM mahasiswa TI UNS\" jika NIM yang dimasukkan sesuai dengan format yang dijelaskan di atas, dan akan menampilkan pesan \"NIM Anda tidak valid\" jika tidak sesuai.\n",
    "> *note: Kerjakan soal ini dengan percabangan*"
   ]
  },
  {
   "cell_type": "code",
   "execution_count": 5,
   "metadata": {},
   "outputs": [
    {
     "name": "stdout",
     "output_type": "stream",
     "text": [
      "I0322096\n",
      "NIM Mahasiswa TI UNS\n"
     ]
    }
   ],
   "source": [
    "# Kerjakan soal no 2 di sini\n",
    "NIM = input(\"masukan NIM anda:\")\n",
    "\n",
    "if len(NIM)==8 and NIM [0:3]==\"I03\":\n",
    "    print (NIM)\n",
    "    print (\"NIM Mahasiswa TI UNS\")\n",
    "else:\n",
    "    print (NIM)\n",
    "    print (\"NIM Anda tidak valid\")    "
   ]
  }
 ],
 "metadata": {
  "kernelspec": {
   "display_name": "Python 3",
   "language": "python",
   "name": "python3"
  },
  "language_info": {
   "codemirror_mode": {
    "name": "ipython",
    "version": 3
   },
   "file_extension": ".py",
   "mimetype": "text/x-python",
   "name": "python",
   "nbconvert_exporter": "python",
   "pygments_lexer": "ipython3",
   "version": "3.10.7"
  },
  "orig_nbformat": 4
 },
 "nbformat": 4,
 "nbformat_minor": 2
}
