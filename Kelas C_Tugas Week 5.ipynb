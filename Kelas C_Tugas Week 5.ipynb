{
 "cells": [
  {
   "attachments": {},
   "cell_type": "markdown",
   "metadata": {},
   "source": [
    "1. Buatlah program untuk menghitung pangkat 2 dari angka 1 hingga 50!"
   ]
  },
  {
   "cell_type": "code",
   "execution_count": null,
   "metadata": {},
   "outputs": [],
   "source": [
    "for i in range(1,51):\n",
    "    x = i ** 2\n",
    "    print(f'{i} Pangkat 2 Adalah {x}')"
   ]
  },
  {
   "attachments": {},
   "cell_type": "markdown",
   "metadata": {},
   "source": [
    "2. Buatlah sebuah list yang berisi daftar nama mahasiswa angkatan kalian minimal sejumlah 10 nama. Kemudian buat program pencarian menggunakan pengulangan, di mana apabila nama yang user inputkan sudah sesuai dengan isi list maka program akan berhenti dan menampilkan output \"Pencarian anda sudah berakhir\""
   ]
  },
  {
   "attachments": {},
   "cell_type": "markdown",
   "metadata": {},
   "source": [
    "catatan: perhatikan user dapat menginputkan menggunakan baik huruf kapital maupun tidak"
   ]
  },
  {
   "cell_type": "code",
   "execution_count": 2,
   "metadata": {},
   "outputs": [
    {
     "name": "stdout",
     "output_type": "stream",
     "text": [
      "rafi\n",
      "nur\n",
      "naren\n",
      "zarla\n",
      "neer\n",
      "musyaffa\n",
      "lutpik\n",
      "nurrafi narendraji\n",
      "abid\n",
      "kaje \n",
      "pencarian anda sudah berakhir\n"
     ]
    }
   ],
   "source": [
    "nama = ['rafi', 'nur', 'naren', 'zarla', 'neer', 'musyaffa', 'lutpik', 'nurrafi narendraji', 'abid', 'kaje']\n",
    "asd = input('Masukkan Nama ')\n",
    "asd = asd.lower()\n",
    "for x in nama:\n",
    "    if asd == x:\n",
    "        print(f'{x} \\npencarian anda sudah berakhir')\n",
    "        break\n",
    "    print(x)"
   ]
  },
  {
   "attachments": {},
   "cell_type": "markdown",
   "metadata": {},
   "source": [
    "3. Disajikan list sebagai berikut "
   ]
  },
  {
   "cell_type": "code",
   "execution_count": null,
   "metadata": {},
   "outputs": [],
   "source": [
    "bulan = ['januari', 'februari', 'maret', 'april','mei','juni','juli','agustus','september','oktober','november','desember']\n",
    "kota = ['jakarta' , 'kuala lumpur', 'bangkok', 'seoul', 'canada','london','dubai','barcelona']"
   ]
  },
  {
   "attachments": {},
   "cell_type": "markdown",
   "metadata": {},
   "source": [
    "Robert adalah seorang penyanyi terkenal. Dia merencanakan konser world tour di tahun 2024 mendatang di berbagai negara. Dengan catatan pada bulan April dan Mei, Robert kembali ke indonesia untuk istirahat sejenak kemudian melanjutkan lagi konser. Berdasarkan kasus tersebut buatlah program pengulangannya!"
   ]
  },
  {
   "cell_type": "code",
   "execution_count": 6,
   "metadata": {},
   "outputs": [
    {
     "name": "stdout",
     "output_type": "stream",
     "text": [
      "Robert akan konser di bulan januari di kota jakarta\n",
      "Robert akan konser di bulan februari di kota kuala lumpur\n",
      "Robert akan konser di bulan maret di kota bangkok\n",
      "di bulan april robert harus kembali ke indonesia untuk beristirahat\n",
      "di bulan mei robert harus kembali ke indonesia untuk beristirahat\n",
      "Robert akan konser di bulan juni di kota seoul\n",
      "Robert akan konser di bulan juli di kota canada\n",
      "Robert akan konser di bulan agustus di kota london\n",
      "Robert akan konser di bulan september di kota dubai\n",
      "Robert akan konser di bulan oktober di kota barcelona\n",
      "Robert akan konser di bulan november di kota bangkok\n",
      "Robert akan konser di bulan desember di kota seoul\n"
     ]
    }
   ],
   "source": [
    "import random\n",
    "bulan = ['januari', 'februari', 'maret', 'april','mei','juni','juli','agustus','september','oktober','november','desember']\n",
    "kota = ['jakarta' , 'kuala lumpur', 'bangkok', 'seoul', 'canada','london','dubai','barcelona']\n",
    "x = 0\n",
    "for i in bulan:\n",
    "    if i in ['april', 'mei']:\n",
    "        print(f'di bulan {i} robert harus kembali ke indonesia untuk beristirahat')\n",
    "        continue\n",
    "    print(f'Robert akan konser di bulan {i} di kota', kota[x])\n",
    "    x+=1\n",
    "    if x == 8:\n",
    "        x = random.randrange(0,8)"
   ]
  }
 ],
 "metadata": {
  "kernelspec": {
   "display_name": "Python 3",
   "language": "python",
   "name": "python3"
  },
  "language_info": {
   "codemirror_mode": {
    "name": "ipython",
    "version": 3
   },
   "file_extension": ".py",
   "mimetype": "text/x-python",
   "name": "python",
   "nbconvert_exporter": "python",
   "pygments_lexer": "ipython3",
   "version": "3.10.7"
  },
  "orig_nbformat": 4
 },
 "nbformat": 4,
 "nbformat_minor": 2
}
